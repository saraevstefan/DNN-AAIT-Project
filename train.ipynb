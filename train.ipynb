{
 "cells": [
  {
   "cell_type": "markdown",
   "metadata": {},
   "source": [
    "# Train the model"
   ]
  },
  {
   "cell_type": "markdown",
   "metadata": {},
   "source": [
    "## Imports"
   ]
  },
  {
   "cell_type": "code",
   "execution_count": 1,
   "metadata": {},
   "outputs": [],
   "source": [
    "%load_ext autoreload\n",
    "%autoreload 2"
   ]
  },
  {
   "cell_type": "code",
   "execution_count": 8,
   "metadata": {},
   "outputs": [],
   "source": [
    "from experiment_framework import get_experiments, run_experiment"
   ]
  },
  {
   "cell_type": "markdown",
   "metadata": {},
   "source": [
    "## Define grid search"
   ]
  },
  {
   "cell_type": "code",
   "execution_count": 9,
   "metadata": {},
   "outputs": [],
   "source": [
    "GRID_SEARCH = {\n",
    "    # \"max_train_epochs\": [20],  # remove when running for real\n",
    "    # \"train_dataset_name\": [\n",
    "    #     \"ro-sts\",\n",
    "    #     \"biblical_01\", # comment biblical_01 because it is huuuge :D\n",
    "    #     [\"ro-sts\", \"biblical_01\"],\n",
    "    # ],\n",
    "    \"accumulate_grad_batches\": [16],\n",
    "    \"model_name\": [\n",
    "        # \"dumitrescustefan/bert-base-romanian-cased-v1\",\n",
    "        \"dumitrescustefan/bert-base-romanian-uncased-v1\",\n",
    "        # \"readerbench/RoBERT-small\",\n",
    "        \"readerbench/RoBERT-base\",\n",
    "    ],\n",
    "    \"loss_function\": [\"MSE\", \"AnglE\"],\n",
    "    \"data_augmentation_translate_data\": [True],\n",
    "}\n",
    "\n",
    "# auto - to run on a cluster\n",
    "EXPERIMENTS = get_experiments(GRID_SEARCH)"
   ]
  },
  {
   "cell_type": "markdown",
   "metadata": {},
   "source": [
    "## Run experiments"
   ]
  },
  {
   "cell_type": "code",
   "execution_count": null,
   "metadata": {},
   "outputs": [],
   "source": [
    "# manual - to run on local\n",
    "EXPERIMENTS = [\n",
    "    {\n",
    "        \"model_name\": \"readerbench/RoBERT-base\",\n",
    "        \"loss_function\": \"AnglE\",\n",
    "        \"data_augmentation_translate_data\": True,\n",
    "    },\n",
    "]\n",
    "\n",
    "for i, experiment in enumerate(EXPERIMENTS):\n",
    "    run_experiment(experiment)\n"
   ]
  }
 ],
 "metadata": {
  "kernelspec": {
   "display_name": "DNN",
   "language": "python",
   "name": "python3"
  },
  "language_info": {
   "codemirror_mode": {
    "name": "ipython",
    "version": 3
   },
   "file_extension": ".py",
   "mimetype": "text/x-python",
   "name": "python",
   "nbconvert_exporter": "python",
   "pygments_lexer": "ipython3",
   "version": "3.12.2"
  }
 },
 "nbformat": 4,
 "nbformat_minor": 2
}
